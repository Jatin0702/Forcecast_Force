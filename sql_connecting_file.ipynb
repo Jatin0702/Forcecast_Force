{
 "cells": [
  {
   "cell_type": "code",
   "execution_count": null,
   "id": "4d82a554-9557-499f-b732-ed9412a0d572",
   "metadata": {},
   "outputs": [],
   "source": [
    "pip install sqlalchemy pymysql"
   ]
  },
  {
   "cell_type": "code",
   "execution_count": 3,
   "id": "9b11aee1-bbf2-498e-afb8-3df61c019958",
   "metadata": {},
   "outputs": [
    {
     "name": "stdout",
     "output_type": "stream",
     "text": [
      "Data successfully uploaded to Cloud SQL.\n"
     ]
    }
   ],
   "source": [
    "from sqlalchemy import create_engine\n",
    "import pandas as pd\n",
    "\n",
    "# Replace with your MySQL username, password, and database name\n",
    "username = 'root'\n",
    "password = 'Jatin0702.'\n",
    "host = 'localhost'  # Or your host address\n",
    "database = 'crm_sales_db'\n",
    "\n",
    "# Create the connection URL\n",
    "connection_url = f'mysql+pymysql://{username}:{password}@{host}/{database}'\n",
    "\n",
    "# Create an SQLAlchemy engine\n",
    "engine = create_engine(connection_url)\n",
    "\n",
    "# Create a DataFrame to upload\n",
    "accounts_df = pd.read_csv('Accounts_Cleaned_Data.csv')\n",
    "products_df = pd.read_csv('products.csv')\n",
    "sales_pipeline_df = pd.read_csv('sales_pipeline_cleaned.csv')\n",
    "sales_teams_df = pd.read_csv('sales_teams.csv') \n",
    "data_dictionary_df = pd.read_csv('data_dictionary.csv')\n",
    "\n",
    "# Upload DataFrames to Cloud SQL\n",
    "accounts_df.to_sql('accounts', con=engine, if_exists='replace', index=False)\n",
    "products_df.to_sql('products', con=engine, if_exists='replace', index=False)\n",
    "sales_pipeline_df.to_sql('sales_pipeline', con=engine, if_exists='replace', index=False)\n",
    "sales_teams_df.to_sql('sales_teams', con=engine, if_exists='replace', index=False)\n",
    "data_dictionary_df.to_sql('data_dictionary', con=engine, if_exists='replace', index=False)\n",
    "\n",
    "print(\"Data successfully uploaded to Cloud SQL.\")\n"
   ]
  }
 ],
 "metadata": {
  "kernelspec": {
   "display_name": "Python 3 (ipykernel)",
   "language": "python",
   "name": "python3"
  },
  "language_info": {
   "codemirror_mode": {
    "name": "ipython",
    "version": 3
   },
   "file_extension": ".py",
   "mimetype": "text/x-python",
   "name": "python",
   "nbconvert_exporter": "python",
   "pygments_lexer": "ipython3",
   "version": "3.12.4"
  }
 },
 "nbformat": 4,
 "nbformat_minor": 5
}
